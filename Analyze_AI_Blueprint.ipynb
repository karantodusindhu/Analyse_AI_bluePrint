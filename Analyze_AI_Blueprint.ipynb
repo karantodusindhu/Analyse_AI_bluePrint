{
 "cells": [
  {
   "cell_type": "markdown",
   "metadata": {},
   "source": [
    "# Analyzing the 'AI Blueprint of India' PDF\n",
    "\n",
    "This notebook demonstrates how to work with the content of the `CaseStudy-AIBluePrintofIndiabyLeezaPathan.pdf` file. We will cover three main methods:\n",
    "\n",
    "1.  **Displaying the PDF** for easy reference.\n",
    "2.  **Extracting all text** for analysis.\n",
    "3.  **Extracting tables** into pandas DataFrames."
   ]
  },
  {
   "cell_type": "markdown",
   "metadata": {},
   "source": [
    "## Setup: Installing Libraries\n",
    "\n",
    "First, make sure you have the necessary libraries installed. If not, run the following command in a code cell by removing the `#`:"
   ]
  },
  {
   "cell_type": "code",
   "execution_count": null,
   "metadata": {},
   "outputs": [],
   "source": [
    "# !pip install PyMuPDF\n",
    "# !pip install tabula-py\n",
    "# !pip install pandas"
   ]
  },
  {
   "cell_type": "markdown",
   "metadata": {},
   "source": [
    "--- \n",
    "## Method 1: Display the PDF in the Notebook 📄\n",
    "\n",
    "This method embeds the PDF directly into the output cell, which is useful for quick reference."
   ]
  },
  {
   "cell_type": "code",
   "execution_count": null,
   "metadata": {},
   "outputs": [],
   "source": [
    "from IPython.display import IFrame\n",
    "\n",
    "# Display the PDF file. You can adjust the width and height as needed.\n",
    "IFrame(\"CaseStudy-AIBluePrintofIndiabyLeezaPathan.pdf\", width=900, height=600)"
   ]
  },
  {
   "cell_type": "markdown",
   "metadata": {},
   "source": [
    "--- \n",
    "## Method 2: Extract All Text for Analysis\n",
    "\n",
    "Here, we'll use the **PyMuPDF** library (imported as `fitz`) to read the entire text content from the PDF into a single Python string. This is the first step for any text-based analysis or NLP task."
   ]
  },
  {
   "cell_type": "code",
   "execution_count": null,
   "metadata": {},
   "outputs": [],
   "source": [
    "import fitz  # PyMuPDF\n",
    "\n",
    "pdf_path = \"CaseStudy-AIBluePrintofIndiabyLeezaPathan.pdf\"\n",
    "full_text = \"\"\n",
    "\n",
    "# Open the PDF file\n",
    "try:\n",
    "    with fitz.open(pdf_path) as doc:\n",
    "        # Loop through each page and extract its text\n",
    "        for page in doc:\n",
    "            full_text += page.get_text()\n",
    "\n",
    "    # Print the first 500 characters of the extracted text\n",
    "    print(\"Successfully extracted text. Printing the first 500 characters:\\n\")\n",
    "    print(full_text[:500])\n",
    "except Exception as e:\n",
    "    print(f\"An error occurred: {e}\")\n",
    "    print(f\"Please ensure the file '{pdf_path}' is in the same directory as this notebook.\")"
   ]
  },
  {
   "cell_type": "markdown",
   "metadata": {},
   "source": [
    "--- \n",
    "## Method 3: Extract Tables into a DataFrame 📊\n",
    "\n",
    "For structured data, the **`tabula-py`** library is fantastic. It can detect tables in a PDF and convert them directly into pandas DataFrames. \n",
    "\n",
    "**Note:** This requires Java to be installed on your system."
   ]
  },
  {
   "cell_type": "code",
   "execution_count": null,
   "metadata": {},
   "outputs": [],
   "source": [
    "import tabula\n",
    "import pandas as pd\n",
    "\n",
    "pdf_path = \"CaseStudy-AIBluePrintofIndiabyLeezaPathan.pdf\"\n",
    "\n",
    "try:\n",
    "    # Read all tables from all pages of the PDF\n",
    "    # This returns a list of pandas DataFrames\n",
    "    list_of_dataframes = tabula.read_pdf(pdf_path, pages='all', multiple_tables=True)\n",
    "\n",
    "    print(f\"Found {len(list_of_dataframes)} tables in the PDF.\\n\")\n",
    "\n",
    "    # Let's find and display the supercomputer table (from page 7)\n",
    "    # We can identify it by looking for a specific column name\n",
    "    supercomputer_table = None\n",
    "    for df in list_of_dataframes:\n",
    "        if 'Rmax' in df.columns or 'Rmax\\r[TFlop/s]' in df.columns:\n",
    "            supercomputer_table = df\n",
    "            break\n",
    "\n",
    "    if supercomputer_table is not None:\n",
    "        print(\"Displaying the Supercomputer Table:\")\n",
    "        display(supercomputer_table)\n",
    "    else:\n",
    "        print(\"Could not automatically find the supercomputer table.\")\n",
    "\n",
    "except Exception as e:\n",
    "    print(f\"An error occurred: {e}\")\n",
    "    print(\"Please ensure Java is installed and that the PDF file is not corrupted.\")"
   ]
  }
 ],
 "metadata": {
  "kernelspec": {
   "display_name": "Python 3",
   "language": "python",
   "name": "python3"
  },
  "language_info": {
   "codemirror_mode": {
    "name": "ipython",
    "version": 3
   },
   "file_extension": ".py",
   "mimetype": "text/x-python",
   "name": "python",
   "nbconvert_exporter": "python",
   "pygments_lexer": "ipython3",
   "version": "3.9.7"
  }
 },
 "nbformat": 4,
 "nbformat_minor": 4
}
